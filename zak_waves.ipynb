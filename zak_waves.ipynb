{
 "cells": [
  {
   "cell_type": "code",
   "execution_count": null,
   "id": "65d004ce-4e42-439d-a0a4-18390ac88c06",
   "metadata": {},
   "outputs": [],
   "source": [
    "# importing necessary libraries\n",
    "import ee\n",
    "import folium\n",
    "import pylab as pl\n",
    "\n",
    "# initializing earth\n",
    "ee.Authenticate()\n",
    "ee.Initialize()"
   ]
  },
  {
   "cell_type": "code",
   "execution_count": null,
   "id": "132576b7-5958-48ef-b3d4-3f6785bd30fd",
   "metadata": {},
   "outputs": [],
   "source": [
    "# importing earth libraries\n",
    "imageCollection = ee.ImageCollection(\"COPERNICUS/S1_GRD\"),\n",
    "imageCollection2 = ee.ImageCollection(\"NASA/OCEANDATA/MODIS-Aqua/L3SMI\");"
   ]
  },
  {
   "cell_type": "code",
   "execution_count": null,
   "id": "10ec3936-fa99-4419-8e42-9beb7b507a5d",
   "metadata": {},
   "outputs": [],
   "source": [
    "# function: display earth map\n"
   ]
  },
  {
   "cell_type": "code",
   "execution_count": null,
   "id": "216860d9-3864-4e2f-9837-98ba655312b0",
   "metadata": {},
   "outputs": [],
   "source": [
    "# function: cross correlation\n"
   ]
  },
  {
   "cell_type": "code",
   "execution_count": null,
   "id": "40b9b29d-f595-41e0-b860-734ec553cf9b",
   "metadata": {},
   "outputs": [],
   "source": []
  }
 ],
 "metadata": {
  "kernelspec": {
   "display_name": "Python 3 (ipykernel)",
   "language": "python",
   "name": "python3"
  },
  "language_info": {
   "codemirror_mode": {
    "name": "ipython",
    "version": 3
   },
   "file_extension": ".py",
   "mimetype": "text/x-python",
   "name": "python",
   "nbconvert_exporter": "python",
   "pygments_lexer": "ipython3",
   "version": "3.11.3"
  }
 },
 "nbformat": 4,
 "nbformat_minor": 5
}
